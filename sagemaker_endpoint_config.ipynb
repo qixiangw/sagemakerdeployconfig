{
 "cells": [
  {
   "cell_type": "code",
   "execution_count": 1,
   "id": "dffe0cb5",
   "metadata": {},
   "outputs": [
    {
     "name": "stdout",
     "output_type": "stream",
     "text": [
      "2.127.0\n"
     ]
    }
   ],
   "source": [
    "#!pip install --upgrade pip\n",
    "\n",
    "import os\n",
    "import sagemaker\n",
    "print(sagemaker.__version__)\n",
    "\n",
    "from sagemaker.pytorch import PyTorch\n",
    "from sagemaker.pytorch.model import PyTorchModel\n",
    "\n",
    "sagemaker_session = sagemaker.Session()\n",
    "\n",
    "role = sagemaker.get_execution_role()"
   ]
  },
  {
   "cell_type": "code",
   "execution_count": 2,
   "id": "cf02bd49-9a13-43fd-bd26-9b6aa6042061",
   "metadata": {},
   "outputs": [
    {
     "data": {
      "text/plain": [
       "'arn:aws:iam::249517808360:role/service-role/AmazonSageMaker-ExecutionRole-20220920T155276'"
      ]
     },
     "execution_count": 2,
     "metadata": {},
     "output_type": "execute_result"
    }
   ],
   "source": [
    "role"
   ]
  },
  {
   "cell_type": "code",
   "execution_count": 4,
   "id": "81436067",
   "metadata": {},
   "outputs": [
    {
     "name": "stdout",
     "output_type": "stream",
     "text": [
      "s3://sagemaker-cn-northwest-1-383709301087/model.tar.gz s3://sagemaker-cn-northwest-1-383709301087/newmodel/model.tar.gz\n"
     ]
    }
   ],
   "source": [
    "# upload new model to s3 with boto3\n",
    "\n",
    "import boto3\n",
    "# Define session and bucket\n",
    "\n",
    "bucket = sagemaker_session.default_bucket()\n",
    "region = boto3.session.Session().region_name\n",
    "\n",
    "s3_client = boto3.client('s3', region_name=region)\n",
    "prefix = \"newmodel\"\n",
    "s3_client.upload_file('model.tar.gz', bucket, prefix + '/model.tar.gz')\n",
    "\n",
    "model_uri = 's3://{}/model.tar.gz'.format(bucket)\n",
    "new_model_uir = 's3://{}/{}/model.tar.gz'.format(bucket,prefix)\n",
    "print(model_uri,new_model_uir)\n"
   ]
  },
  {
   "cell_type": "markdown",
   "id": "415a945a",
   "metadata": {},
   "source": [
    "## Sagemaker endpoint Autoscaling 配置"
   ]
  },
  {
   "cell_type": "markdown",
   "id": "ead72f18",
   "metadata": {},
   "source": [
    "### 列出现有的线上的endpoint\n",
    "根据已经部署好的终端节点endpoint 确定终端节点名称endpoint name 以及 终端节点配置endpoint config"
   ]
  },
  {
   "cell_type": "code",
   "execution_count": 88,
   "id": "a9034e7a",
   "metadata": {},
   "outputs": [
    {
     "name": "stdout",
     "output_type": "stream",
     "text": [
      "{   'Endpoints': [   {   'CreationTime': datetime.datetime(2022, 12, 1, 2, 56, 41, 972000, tzinfo=tzlocal()),\n",
      "                         'EndpointArn': 'arn:aws-cn:sagemaker:cn-northwest-1:383709301087:endpoint/pytorch-inference-2022-12-01-02-56-41-738',\n",
      "                         'EndpointName': 'pytorch-inference-2022-12-01-02-56-41-738',\n",
      "                         'EndpointStatus': 'InService',\n",
      "                         'LastModifiedTime': datetime.datetime(2022, 12, 2, 13, 27, 6, 93000, tzinfo=tzlocal())}],\n",
      "    'ResponseMetadata': {   'HTTPHeaders': {   'content-length': '289',\n",
      "                                               'content-type': 'application/x-amz-json-1.1',\n",
      "                                               'date': 'Fri, 02 Dec 2022 '\n",
      "                                                       '13:39:01 GMT',\n",
      "                                               'x-amzn-requestid': '4833c855-238b-420b-bd0c-ce362413ac67'},\n",
      "                            'HTTPStatusCode': 200,\n",
      "                            'RequestId': '4833c855-238b-420b-bd0c-ce362413ac67',\n",
      "                            'RetryAttempts': 0}}\n"
     ]
    }
   ],
   "source": [
    "import pprint\n",
    "import json\n",
    "from datetime import date, datetime\n",
    "\n",
    "pp = pprint.PrettyPrinter(indent=4, depth=4)\n",
    "\n",
    "sagemaker_client = boto3.client('sagemaker')\n",
    "response = sagemaker_client.list_endpoints(SortBy='CreationTime',StatusEquals='InService',NameContains='pytorch',CreationTimeAfter=datetime(2022, 10, 1))\n",
    "pp.pprint(response)"
   ]
  },
  {
   "cell_type": "code",
   "execution_count": 89,
   "id": "cc179bd9",
   "metadata": {},
   "outputs": [
    {
     "data": {
      "text/plain": [
       "'pytorch-inference-2022-12-01-02-56-41-738'"
      ]
     },
     "execution_count": 89,
     "metadata": {},
     "output_type": "execute_result"
    }
   ],
   "source": [
    "endpoint_name = response['Endpoints'][0]['EndpointName']\n",
    "endpoint_name"
   ]
  },
  {
   "cell_type": "code",
   "execution_count": 93,
   "id": "235ad5d9",
   "metadata": {},
   "outputs": [
    {
     "name": "stdout",
     "output_type": "stream",
     "text": [
      "{   'CreationTime': datetime.datetime(2022, 12, 1, 2, 56, 41, 972000, tzinfo=tzlocal()),\n",
      "    'EndpointArn': 'arn:aws-cn:sagemaker:cn-northwest-1:383709301087:endpoint/pytorch-inference-2022-12-01-02-56-41-738',\n",
      "    'EndpointConfigName': 'new-endpoint-config',\n",
      "    'EndpointName': 'pytorch-inference-2022-12-01-02-56-41-738',\n",
      "    'EndpointStatus': 'InService',\n",
      "    'LastModifiedTime': datetime.datetime(2022, 12, 2, 13, 27, 6, 93000, tzinfo=tzlocal()),\n",
      "    'ProductionVariants': [   {   'CurrentInstanceCount': 2,\n",
      "                                  'CurrentWeight': 1.0,\n",
      "                                  'DeployedImages': [{...}],\n",
      "                                  'DesiredInstanceCount': 2,\n",
      "                                  'DesiredWeight': 1.0,\n",
      "                                  'VariantName': 'Variant2'}],\n",
      "    'ResponseMetadata': {   'HTTPHeaders': {   'content-length': '778',\n",
      "                                               'content-type': 'application/x-amz-json-1.1',\n",
      "                                               'date': 'Fri, 02 Dec 2022 '\n",
      "                                                       '13:41:35 GMT',\n",
      "                                               'x-amzn-requestid': 'ec664ced-81aa-4095-9040-e539258aeff4'},\n",
      "                            'HTTPStatusCode': 200,\n",
      "                            'RequestId': 'ec664ced-81aa-4095-9040-e539258aeff4',\n",
      "                            'RetryAttempts': 0}}\n"
     ]
    }
   ],
   "source": [
    "# fetch endpoint details\n",
    "response = client.describe_endpoint(EndpointName=endpoint_name)\n",
    "pp.pprint(response)\n",
    "old_endpointconfig = response['EndpointConfigName']"
   ]
  },
  {
   "cell_type": "code",
   "execution_count": 115,
   "id": "51f6afd4",
   "metadata": {},
   "outputs": [
    {
     "data": {
      "text/plain": [
       "{'VariantName': 'AllTraffic',\n",
       " 'ModelName': 'pytorch-inference-2022-12-01-02-56-41-175',\n",
       " 'InitialInstanceCount': 2,\n",
       " 'InstanceType': 'ml.g4dn.2xlarge',\n",
       " 'InitialVariantWeight': 1.0}"
      ]
     },
     "execution_count": 115,
     "metadata": {},
     "output_type": "execute_result"
    }
   ],
   "source": [
    "response = client.describe_endpoint_config(EndpointConfigName =old_endpointconfig)\n",
    "old_endpointVariants = response['ProductionVariants'][0]\n",
    "old_endpointVariants"
   ]
  },
  {
   "cell_type": "markdown",
   "id": "9c1c6fa0",
   "metadata": {},
   "source": [
    "### 配置自动扩展策略"
   ]
  },
  {
   "cell_type": "code",
   "execution_count": 127,
   "id": "1c16f14d",
   "metadata": {},
   "outputs": [
    {
     "data": {
      "text/plain": [
       "{'ResponseMetadata': {'RequestId': 'bf509636-75ce-4249-8f3b-294bd89d988a',\n",
       "  'HTTPStatusCode': 200,\n",
       "  'HTTPHeaders': {'x-amzn-requestid': 'bf509636-75ce-4249-8f3b-294bd89d988a',\n",
       "   'content-type': 'application/x-amz-json-1.1',\n",
       "   'content-length': '2',\n",
       "   'date': 'Fri, 02 Dec 2022 14:18:59 GMT'},\n",
       "  'RetryAttempts': 0}}"
      ]
     },
     "execution_count": 127,
     "metadata": {},
     "output_type": "execute_result"
    }
   ],
   "source": [
    "\n",
    "asg_client = boto3.client('application-autoscaling')\n",
    "\n",
    "register_variants = client.describe_endpoint(EndpointName=endpoint_name)['ProductionVariants'][0]['VariantName']\n",
    "resource_id='endpoint/' + endpoint_name + '/variant/' + register_variants # This is the format in which application autoscaling references the endpoint\n",
    "\n",
    "response = asg_client.register_scalable_target(\n",
    "    ServiceNamespace='sagemaker', #\n",
    "    ResourceId=resource_id,\n",
    "    ScalableDimension='sagemaker:variant:DesiredInstanceCount',\n",
    "    MinCapacity=1,\n",
    "    MaxCapacity=20\n",
    ")\n",
    "\n",
    "response"
   ]
  },
  {
   "cell_type": "code",
   "execution_count": null,
   "id": "b4919c9e",
   "metadata": {},
   "outputs": [],
   "source": []
  },
  {
   "cell_type": "markdown",
   "id": "d39788ec",
   "metadata": {},
   "source": [
    "## 更新线上终端节点\n",
    "首先创建model（指定container，model文件），再用production_variant生成新的模型版本（variant_new）,然后用create_endpoint_config创建新的模型部署定义（instance型号数量等），update_endpoint更新endpoint。"
   ]
  },
  {
   "cell_type": "markdown",
   "id": "abafbc2b",
   "metadata": {},
   "source": [
    "### 列出现有的注册的模型\n",
    "根据已经注册的模型拿到在用的推理镜像uri"
   ]
  },
  {
   "cell_type": "code",
   "execution_count": 51,
   "id": "9dd51ab2",
   "metadata": {},
   "outputs": [
    {
     "name": "stdout",
     "output_type": "stream",
     "text": [
      "{   'CreationTime': datetime.datetime(2022, 12, 1, 2, 56, 41, 621000, tzinfo=tzlocal()),\n",
      "    'EnableNetworkIsolation': False,\n",
      "    'ExecutionRoleArn': 'arn:aws-cn:iam::383709301087:role/sgbootcamp-internal-SageMakerExecutionRole-1HIZ19SFK76J4',\n",
      "    'ModelArn': 'arn:aws-cn:sagemaker:cn-northwest-1:383709301087:model/pytorch-inference-2022-12-01-02-56-41-175',\n",
      "    'ModelName': 'pytorch-inference-2022-12-01-02-56-41-175',\n",
      "    'PrimaryContainer': {   'Environment': {   'SAGEMAKER_CONTAINER_LOG_LEVEL': '20',\n",
      "                                               'SAGEMAKER_MODEL_SERVER_WORKERS': '2',\n",
      "                                               'SAGEMAKER_PROGRAM': 'inference.py',\n",
      "                                               'SAGEMAKER_REGION': 'cn-northwest-1',\n",
      "                                               'SAGEMAKER_SUBMIT_DIRECTORY': '/opt/ml/model/code'},\n",
      "                            'Image': '727897471807.dkr.ecr.cn-northwest-1.amazonaws.com.cn/pytorch-inference:1.10.2-gpu-py38',\n",
      "                            'Mode': 'SingleModel',\n",
      "                            'ModelDataUrl': 's3://sagemaker-cn-northwest-1-383709301087/pytorch-inference-2022-12-01-02-56-40-060/model.tar.gz'},\n",
      "    'ResponseMetadata': {   'HTTPHeaders': {   'content-length': '807',\n",
      "                                               'content-type': 'application/x-amz-json-1.1',\n",
      "                                               'date': 'Fri, 02 Dec 2022 '\n",
      "                                                       '12:37:03 GMT',\n",
      "                                               'x-amzn-requestid': 'fca6fea7-d78e-4cda-8093-c3f0bd2d8eb4'},\n",
      "                            'HTTPStatusCode': 200,\n",
      "                            'RequestId': 'fca6fea7-d78e-4cda-8093-c3f0bd2d8eb4',\n",
      "                            'RetryAttempts': 0}}\n"
     ]
    },
    {
     "data": {
      "text/plain": [
       "'727897471807.dkr.ecr.cn-northwest-1.amazonaws.com.cn/pytorch-inference:1.10.2-gpu-py38'"
      ]
     },
     "execution_count": 51,
     "metadata": {},
     "output_type": "execute_result"
    }
   ],
   "source": [
    "response = sagemaker_client.list_models(SortBy='CreationTime',CreationTimeAfter=datetime(2022, 10, 1))\n",
    "model_name = response['Models'][0]['ModelName']\n",
    "\n",
    "response = sagemaker_client.describe_model(\n",
    "    ModelName = model_name\n",
    ")\n",
    "pp.pprint(response)\n",
    "image_uri = response['PrimaryContainer']['Image']\n",
    "image_uri"
   ]
  },
  {
   "cell_type": "code",
   "execution_count": null,
   "id": "4631e2ed",
   "metadata": {},
   "outputs": [],
   "source": []
  },
  {
   "cell_type": "markdown",
   "id": "e8f40998",
   "metadata": {},
   "source": [
    "### 注册新的模型"
   ]
  },
  {
   "cell_type": "code",
   "execution_count": 54,
   "id": "db7c697f",
   "metadata": {},
   "outputs": [
    {
     "data": {
      "text/plain": [
       "{'ModelArn': 'arn:aws-cn:sagemaker:cn-northwest-1:383709301087:model/pytorch-inference-2022-12-01-02-56-41-175-new',\n",
       " 'ResponseMetadata': {'RequestId': '9e4c4c71-2943-40f4-bac5-3c9275054ad6',\n",
       "  'HTTPStatusCode': 200,\n",
       "  'HTTPHeaders': {'x-amzn-requestid': '9e4c4c71-2943-40f4-bac5-3c9275054ad6',\n",
       "   'content-type': 'application/x-amz-json-1.1',\n",
       "   'content-length': '115',\n",
       "   'date': 'Fri, 02 Dec 2022 12:42:52 GMT'},\n",
       "  'RetryAttempts': 0}}"
      ]
     },
     "execution_count": 54,
     "metadata": {},
     "output_type": "execute_result"
    }
   ],
   "source": [
    "response = sagemaker_client.create_model(ModelName = model_name+'-new', ExecutionRoleArn = role, PrimaryContainer={\n",
    "        'Image': image_uri,\n",
    "        'ImageConfig': {\n",
    "            'RepositoryAccessMode': 'Platform'\n",
    "        },\n",
    "        'Mode': 'SingleModel',\n",
    "        'ModelDataUrl': new_model_uir       \n",
    "    })\n",
    "response"
   ]
  },
  {
   "cell_type": "markdown",
   "id": "6f133157",
   "metadata": {},
   "source": [
    "### 创建新的生产变体variant\n",
    "最好先将新模型变体的'InitialVariantWeight'设置为0，等部署完成之后再调整两个变体之间的权重"
   ]
  },
  {
   "cell_type": "code",
   "execution_count": 110,
   "id": "c8263b76",
   "metadata": {},
   "outputs": [],
   "source": [
    "from sagemaker.session import production_variant\n",
    "\n",
    "variant2 = production_variant(model_name=model_name+'-new',\n",
    "                              instance_type='ml.g4dn.2xlarge',\n",
    "                              initial_instance_count=2,\n",
    "                              variant_name='VariantNew',\n",
    "                              initial_weight=1)\n"
   ]
  },
  {
   "cell_type": "code",
   "execution_count": 111,
   "id": "ebf9f74f",
   "metadata": {},
   "outputs": [
    {
     "data": {
      "text/plain": [
       "{'ModelName': 'pytorch-inference-2022-12-01-02-56-41-175-new',\n",
       " 'VariantName': 'VariantNew',\n",
       " 'InitialVariantWeight': 1.0,\n",
       " 'InitialInstanceCount': 1,\n",
       " 'InstanceType': 'ml.g4dn.4xlarge'}"
      ]
     },
     "execution_count": 111,
     "metadata": {},
     "output_type": "execute_result"
    }
   ],
   "source": [
    "variant_new"
   ]
  },
  {
   "cell_type": "code",
   "execution_count": 116,
   "id": "9a5c3c0a",
   "metadata": {},
   "outputs": [
    {
     "data": {
      "text/plain": [
       "{'VariantName': 'AllTraffic',\n",
       " 'ModelName': 'pytorch-inference-2022-12-01-02-56-41-175',\n",
       " 'InitialInstanceCount': 2,\n",
       " 'InstanceType': 'ml.g4dn.2xlarge',\n",
       " 'InitialVariantWeight': 1.0}"
      ]
     },
     "execution_count": 116,
     "metadata": {},
     "output_type": "execute_result"
    }
   ],
   "source": [
    "old_endpointVariants"
   ]
  },
  {
   "cell_type": "markdown",
   "id": "33777b54",
   "metadata": {},
   "source": [
    "### 创建新的终端节点配置\n",
    "新的终端节点配置里面包括 旧模型的生产变体，新模型的生产变体"
   ]
  },
  {
   "cell_type": "code",
   "execution_count": 129,
   "id": "b53b61bd",
   "metadata": {},
   "outputs": [],
   "source": [
    "newEndpointConfigName = 'pytorch-inference-new-endpoint-config'\n",
    "response = sagemaker_client.create_endpoint_config( EndpointConfigName = newEndpointConfigName,\n",
    "                                                   ProductionVariants= [old_endpointVariants,variant_new])"
   ]
  },
  {
   "cell_type": "code",
   "execution_count": 131,
   "id": "df37b521",
   "metadata": {},
   "outputs": [
    {
     "name": "stdout",
     "output_type": "stream",
     "text": [
      "{   'CreationTime': datetime.datetime(2022, 12, 2, 14, 5, 57, 745000, tzinfo=tzlocal()),\n",
      "    'EndpointConfigArn': 'arn:aws-cn:sagemaker:cn-northwest-1:383709301087:endpoint-config/pytorch-inference-new-endpoint-config',\n",
      "    'EndpointConfigName': 'pytorch-inference-new-endpoint-config',\n",
      "    'ProductionVariants': [   {   'InitialInstanceCount': 2,\n",
      "                                  'InitialVariantWeight': 1.0,\n",
      "                                  'InstanceType': 'ml.g4dn.2xlarge',\n",
      "                                  'ModelName': 'pytorch-inference-2022-12-01-02-56-41-175',\n",
      "                                  'VariantName': 'AllTraffic'},\n",
      "                              {   'InitialInstanceCount': 1,\n",
      "                                  'InitialVariantWeight': 1.0,\n",
      "                                  'InstanceType': 'ml.g4dn.4xlarge',\n",
      "                                  'ModelName': 'pytorch-inference-2022-12-01-02-56-41-175-new',\n",
      "                                  'VariantName': 'VariantNew'}],\n",
      "    'ResponseMetadata': {   'HTTPHeaders': {   'content-length': '586',\n",
      "                                               'content-type': 'application/x-amz-json-1.1',\n",
      "                                               'date': 'Fri, 02 Dec 2022 '\n",
      "                                                       '14:23:24 GMT',\n",
      "                                               'x-amzn-requestid': '13f64f8b-0378-4e2c-86b8-ba3d59c47bf6'},\n",
      "                            'HTTPStatusCode': 200,\n",
      "                            'RequestId': '13f64f8b-0378-4e2c-86b8-ba3d59c47bf6',\n",
      "                            'RetryAttempts': 0}}\n"
     ]
    }
   ],
   "source": [
    "pp.pprint(client.describe_endpoint_config(EndpointConfigName =newEndpointConfigName))"
   ]
  },
  {
   "cell_type": "markdown",
   "id": "4bb40fe1",
   "metadata": {},
   "source": [
    "### 更新终端节点\n",
    "需要先取消注册自动扩展才能更新终端节点"
   ]
  },
  {
   "cell_type": "code",
   "execution_count": 128,
   "id": "f2c8c566",
   "metadata": {},
   "outputs": [],
   "source": [
    "asg_client = boto3.client('application-autoscaling')\n",
    "deregister_variant= client.describe_endpoint(EndpointName=endpoint_name)['ProductionVariants'][0]['VariantName'] \n",
    "\n",
    "resource_id='endpoint/' + endpoint_name + '/variant/' + deregister_variant\n",
    "response = asg_client.deregister_scalable_target(\n",
    "    ServiceNamespace='sagemaker',\n",
    "    ResourceId=resource_id,\n",
    "    ScalableDimension='sagemaker:variant:DesiredInstanceCount')"
   ]
  },
  {
   "cell_type": "markdown",
   "id": "f18fa510",
   "metadata": {},
   "source": [
    "新的终端节点有两个变体，一个对应新模型，一个对应旧模型，更新的时候endpoint会变成 updating的状态，大约需要花 7-8 mins"
   ]
  },
  {
   "cell_type": "code",
   "execution_count": 132,
   "id": "c872f713",
   "metadata": {},
   "outputs": [],
   "source": [
    "response = sagemaker_client.update_endpoint(\n",
    "    EndpointName=endpoint_name,\n",
    "    EndpointConfigName=newEndpointConfigName)"
   ]
  },
  {
   "cell_type": "markdown",
   "id": "f5ee87ba",
   "metadata": {},
   "source": [
    "可以调整两个变体(即新旧模型)之间的流量比例，大约花费1min"
   ]
  },
  {
   "cell_type": "code",
   "execution_count": 134,
   "id": "e63831cf",
   "metadata": {},
   "outputs": [],
   "source": [
    "variant1= client.describe_endpoint(EndpointName=endpoint_name)['ProductionVariants'][0]['VariantName'] \n",
    "variant2= client.describe_endpoint(EndpointName=endpoint_name)['ProductionVariants'][-1]['VariantName']"
   ]
  },
  {
   "cell_type": "code",
   "execution_count": 135,
   "id": "18dfd459",
   "metadata": {},
   "outputs": [],
   "source": [
    "response = sagemaker_client.update_endpoint_weights_and_capacities(\n",
    "    EndpointName=endpoint_name,\n",
    "    DesiredWeightsAndCapacities=[\n",
    "        {\n",
    "            \"DesiredWeight\": 75,\n",
    "            \"VariantName\": variant1\n",
    "        },\n",
    "        {\n",
    "            \"DesiredWeight\": 25,\n",
    "            \"VariantName\": variant2\n",
    "        }\n",
    "    ]\n",
    ")"
   ]
  },
  {
   "cell_type": "markdown",
   "id": "7b516d8d",
   "metadata": {},
   "source": []
  }
 ],
 "metadata": {
  "kernelspec": {
   "display_name": "conda_tensorflow2_p310",
   "language": "python",
   "name": "conda_tensorflow2_p310"
  },
  "language_info": {
   "codemirror_mode": {
    "name": "ipython",
    "version": 3
   },
   "file_extension": ".py",
   "mimetype": "text/x-python",
   "name": "python",
   "nbconvert_exporter": "python",
   "pygments_lexer": "ipython3",
   "version": "3.10.12"
  }
 },
 "nbformat": 4,
 "nbformat_minor": 5
}
